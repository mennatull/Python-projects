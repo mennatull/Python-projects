{
 "cells": [
  {
   "cell_type": "code",
   "execution_count": 2,
   "id": "2a5d2651-8f93-45ae-86f2-aebe81189ef1",
   "metadata": {},
   "outputs": [],
   "source": [
    "import pandas as pd"
   ]
  },
  {
   "cell_type": "code",
   "execution_count": 3,
   "id": "2c6e5acd-a163-49ce-a2f6-78d1e169af7d",
   "metadata": {},
   "outputs": [],
   "source": [
    "import numpy as np"
   ]
  },
  {
   "cell_type": "code",
   "execution_count": 16,
   "id": "10d70e82-c5bc-4e72-979a-806772aaae0c",
   "metadata": {},
   "outputs": [
    {
     "data": {
      "text/html": [
       "<div>\n",
       "<style scoped>\n",
       "    .dataframe tbody tr th:only-of-type {\n",
       "        vertical-align: middle;\n",
       "    }\n",
       "\n",
       "    .dataframe tbody tr th {\n",
       "        vertical-align: top;\n",
       "    }\n",
       "\n",
       "    .dataframe thead th {\n",
       "        text-align: right;\n",
       "    }\n",
       "</style>\n",
       "<table border=\"1\" class=\"dataframe\">\n",
       "  <thead>\n",
       "    <tr style=\"text-align: right;\">\n",
       "      <th></th>\n",
       "      <th>Unnamed: 0</th>\n",
       "      <th>User ID</th>\n",
       "      <th>Name</th>\n",
       "      <th>Email</th>\n",
       "    </tr>\n",
       "  </thead>\n",
       "  <tbody>\n",
       "    <tr>\n",
       "      <th>0</th>\n",
       "      <td>0</td>\n",
       "      <td>4c731e48-0377-4d7d-b4c8-b2174b774ed8</td>\n",
       "      <td>Gary Hill</td>\n",
       "      <td>GHbnuothhymw</td>\n",
       "    </tr>\n",
       "    <tr>\n",
       "      <th>1</th>\n",
       "      <td>1</td>\n",
       "      <td>95258c36-5b6b-4591-85ee-0c43f503c1d5</td>\n",
       "      <td>Michael Deering</td>\n",
       "      <td>MD@gmail.com</td>\n",
       "    </tr>\n",
       "    <tr>\n",
       "      <th>2</th>\n",
       "      <td>2</td>\n",
       "      <td>a8229d24-f219-4930-a382-24049a8f73bb</td>\n",
       "      <td>Richard Bain</td>\n",
       "      <td>RB@gmail.com</td>\n",
       "    </tr>\n",
       "    <tr>\n",
       "      <th>3</th>\n",
       "      <td>3</td>\n",
       "      <td>8f41c07f-db4f-44f3-ae81-1f99cee047eb</td>\n",
       "      <td>Kristi Mccarthy</td>\n",
       "      <td>KM@gmail.com</td>\n",
       "    </tr>\n",
       "    <tr>\n",
       "      <th>4</th>\n",
       "      <td>4</td>\n",
       "      <td>3af8d78b-55c4-4ac0-8161-7cc3f6ec11c9</td>\n",
       "      <td>Betty Ellis</td>\n",
       "      <td>BE@gmail.com</td>\n",
       "    </tr>\n",
       "  </tbody>\n",
       "</table>\n",
       "</div>"
      ],
      "text/plain": [
       "   Unnamed: 0                               User ID             Name  \\\n",
       "0           0  4c731e48-0377-4d7d-b4c8-b2174b774ed8        Gary Hill   \n",
       "1           1  95258c36-5b6b-4591-85ee-0c43f503c1d5  Michael Deering   \n",
       "2           2  a8229d24-f219-4930-a382-24049a8f73bb     Richard Bain   \n",
       "3           3  8f41c07f-db4f-44f3-ae81-1f99cee047eb  Kristi Mccarthy   \n",
       "4           4  3af8d78b-55c4-4ac0-8161-7cc3f6ec11c9      Betty Ellis   \n",
       "\n",
       "          Email  \n",
       "0  GHbnuothhymw  \n",
       "1  MD@gmail.com  \n",
       "2  RB@gmail.com  \n",
       "3  KM@gmail.com  \n",
       "4  BE@gmail.com  "
      ]
     },
     "execution_count": 16,
     "metadata": {},
     "output_type": "execute_result"
    }
   ],
   "source": [
    "df.head()"
   ]
  },
  {
   "cell_type": "code",
   "execution_count": 18,
   "id": "314dba49-f762-49e7-a4cc-17ae27d598a0",
   "metadata": {},
   "outputs": [
    {
     "data": {
      "text/html": [
       "<div>\n",
       "<style scoped>\n",
       "    .dataframe tbody tr th:only-of-type {\n",
       "        vertical-align: middle;\n",
       "    }\n",
       "\n",
       "    .dataframe tbody tr th {\n",
       "        vertical-align: top;\n",
       "    }\n",
       "\n",
       "    .dataframe thead th {\n",
       "        text-align: right;\n",
       "    }\n",
       "</style>\n",
       "<table border=\"1\" class=\"dataframe\">\n",
       "  <thead>\n",
       "    <tr style=\"text-align: right;\">\n",
       "      <th></th>\n",
       "      <th>Unnamed: 0</th>\n",
       "      <th>User ID</th>\n",
       "      <th>Name</th>\n",
       "      <th>Email</th>\n",
       "    </tr>\n",
       "  </thead>\n",
       "  <tbody>\n",
       "    <tr>\n",
       "      <th>0</th>\n",
       "      <td>False</td>\n",
       "      <td>False</td>\n",
       "      <td>False</td>\n",
       "      <td>False</td>\n",
       "    </tr>\n",
       "    <tr>\n",
       "      <th>1</th>\n",
       "      <td>False</td>\n",
       "      <td>False</td>\n",
       "      <td>False</td>\n",
       "      <td>False</td>\n",
       "    </tr>\n",
       "    <tr>\n",
       "      <th>2</th>\n",
       "      <td>False</td>\n",
       "      <td>False</td>\n",
       "      <td>False</td>\n",
       "      <td>False</td>\n",
       "    </tr>\n",
       "    <tr>\n",
       "      <th>3</th>\n",
       "      <td>False</td>\n",
       "      <td>False</td>\n",
       "      <td>False</td>\n",
       "      <td>False</td>\n",
       "    </tr>\n",
       "    <tr>\n",
       "      <th>4</th>\n",
       "      <td>False</td>\n",
       "      <td>False</td>\n",
       "      <td>False</td>\n",
       "      <td>False</td>\n",
       "    </tr>\n",
       "    <tr>\n",
       "      <th>...</th>\n",
       "      <td>...</td>\n",
       "      <td>...</td>\n",
       "      <td>...</td>\n",
       "      <td>...</td>\n",
       "    </tr>\n",
       "    <tr>\n",
       "      <th>495</th>\n",
       "      <td>False</td>\n",
       "      <td>False</td>\n",
       "      <td>False</td>\n",
       "      <td>False</td>\n",
       "    </tr>\n",
       "    <tr>\n",
       "      <th>496</th>\n",
       "      <td>False</td>\n",
       "      <td>False</td>\n",
       "      <td>False</td>\n",
       "      <td>False</td>\n",
       "    </tr>\n",
       "    <tr>\n",
       "      <th>497</th>\n",
       "      <td>False</td>\n",
       "      <td>False</td>\n",
       "      <td>False</td>\n",
       "      <td>False</td>\n",
       "    </tr>\n",
       "    <tr>\n",
       "      <th>498</th>\n",
       "      <td>False</td>\n",
       "      <td>False</td>\n",
       "      <td>False</td>\n",
       "      <td>False</td>\n",
       "    </tr>\n",
       "    <tr>\n",
       "      <th>499</th>\n",
       "      <td>False</td>\n",
       "      <td>False</td>\n",
       "      <td>False</td>\n",
       "      <td>False</td>\n",
       "    </tr>\n",
       "  </tbody>\n",
       "</table>\n",
       "<p>500 rows × 4 columns</p>\n",
       "</div>"
      ],
      "text/plain": [
       "     Unnamed: 0  User ID   Name  Email\n",
       "0         False    False  False  False\n",
       "1         False    False  False  False\n",
       "2         False    False  False  False\n",
       "3         False    False  False  False\n",
       "4         False    False  False  False\n",
       "..          ...      ...    ...    ...\n",
       "495       False    False  False  False\n",
       "496       False    False  False  False\n",
       "497       False    False  False  False\n",
       "498       False    False  False  False\n",
       "499       False    False  False  False\n",
       "\n",
       "[500 rows x 4 columns]"
      ]
     },
     "execution_count": 18,
     "metadata": {},
     "output_type": "execute_result"
    }
   ],
   "source": [
    "df.isna()"
   ]
  },
  {
   "cell_type": "code",
   "execution_count": 28,
   "id": "1bea0672-e8b2-4cc8-b9ca-6c0b5aad254e",
   "metadata": {},
   "outputs": [
    {
     "data": {
      "text/html": [
       "<div>\n",
       "<style scoped>\n",
       "    .dataframe tbody tr th:only-of-type {\n",
       "        vertical-align: middle;\n",
       "    }\n",
       "\n",
       "    .dataframe tbody tr th {\n",
       "        vertical-align: top;\n",
       "    }\n",
       "\n",
       "    .dataframe thead th {\n",
       "        text-align: right;\n",
       "    }\n",
       "</style>\n",
       "<table border=\"1\" class=\"dataframe\">\n",
       "  <thead>\n",
       "    <tr style=\"text-align: right;\">\n",
       "      <th></th>\n",
       "      <th>Unnamed: 0</th>\n",
       "      <th>User ID</th>\n",
       "      <th>Name</th>\n",
       "      <th>Email</th>\n",
       "    </tr>\n",
       "  </thead>\n",
       "  <tbody>\n",
       "    <tr>\n",
       "      <th>0</th>\n",
       "      <td>0</td>\n",
       "      <td>4c731e48-0377-4d7d-b4c8-b2174b774ed8</td>\n",
       "      <td>Gary Hill</td>\n",
       "      <td>GHbnuothhymw</td>\n",
       "    </tr>\n",
       "    <tr>\n",
       "      <th>1</th>\n",
       "      <td>1</td>\n",
       "      <td>95258c36-5b6b-4591-85ee-0c43f503c1d5</td>\n",
       "      <td>Michael Deering</td>\n",
       "      <td>MD@gmail.com</td>\n",
       "    </tr>\n",
       "    <tr>\n",
       "      <th>2</th>\n",
       "      <td>2</td>\n",
       "      <td>a8229d24-f219-4930-a382-24049a8f73bb</td>\n",
       "      <td>Richard Bain</td>\n",
       "      <td>RB@gmail.com</td>\n",
       "    </tr>\n",
       "    <tr>\n",
       "      <th>3</th>\n",
       "      <td>3</td>\n",
       "      <td>8f41c07f-db4f-44f3-ae81-1f99cee047eb</td>\n",
       "      <td>Kristi Mccarthy</td>\n",
       "      <td>KM@gmail.com</td>\n",
       "    </tr>\n",
       "    <tr>\n",
       "      <th>4</th>\n",
       "      <td>4</td>\n",
       "      <td>3af8d78b-55c4-4ac0-8161-7cc3f6ec11c9</td>\n",
       "      <td>Betty Ellis</td>\n",
       "      <td>BE@gmail.com</td>\n",
       "    </tr>\n",
       "    <tr>\n",
       "      <th>...</th>\n",
       "      <td>...</td>\n",
       "      <td>...</td>\n",
       "      <td>...</td>\n",
       "      <td>...</td>\n",
       "    </tr>\n",
       "    <tr>\n",
       "      <th>495</th>\n",
       "      <td>495</td>\n",
       "      <td>1f7e22c8-558a-4b6f-a04f-b219593f029e</td>\n",
       "      <td>Tracey Corbett</td>\n",
       "      <td>TC@gmail.com</td>\n",
       "    </tr>\n",
       "    <tr>\n",
       "      <th>496</th>\n",
       "      <td>496</td>\n",
       "      <td>0d47a133-383b-4a9c-976c-697ac65ccb19</td>\n",
       "      <td>Jennifer Mcintosh</td>\n",
       "      <td>JM@gmail.com</td>\n",
       "    </tr>\n",
       "    <tr>\n",
       "      <th>497</th>\n",
       "      <td>497</td>\n",
       "      <td>db0066e1-83cc-43f3-990b-983010aa5370</td>\n",
       "      <td>Marion Stecklein</td>\n",
       "      <td>MS@gmail.com</td>\n",
       "    </tr>\n",
       "    <tr>\n",
       "      <th>498</th>\n",
       "      <td>498</td>\n",
       "      <td>d6204684-926d-41db-ae9c-a7bf2e76313a</td>\n",
       "      <td>Jeffery Zerbe</td>\n",
       "      <td>JZ@gmail.com</td>\n",
       "    </tr>\n",
       "    <tr>\n",
       "      <th>499</th>\n",
       "      <td>499</td>\n",
       "      <td>07f4dcd0-2bf3-4f21-9da3-b054b511ae00</td>\n",
       "      <td>Darcel Smith</td>\n",
       "      <td>DS@gmail.com</td>\n",
       "    </tr>\n",
       "  </tbody>\n",
       "</table>\n",
       "<p>500 rows × 4 columns</p>\n",
       "</div>"
      ],
      "text/plain": [
       "     Unnamed: 0                               User ID               Name  \\\n",
       "0             0  4c731e48-0377-4d7d-b4c8-b2174b774ed8          Gary Hill   \n",
       "1             1  95258c36-5b6b-4591-85ee-0c43f503c1d5    Michael Deering   \n",
       "2             2  a8229d24-f219-4930-a382-24049a8f73bb       Richard Bain   \n",
       "3             3  8f41c07f-db4f-44f3-ae81-1f99cee047eb    Kristi Mccarthy   \n",
       "4             4  3af8d78b-55c4-4ac0-8161-7cc3f6ec11c9        Betty Ellis   \n",
       "..          ...                                   ...                ...   \n",
       "495         495  1f7e22c8-558a-4b6f-a04f-b219593f029e     Tracey Corbett   \n",
       "496         496  0d47a133-383b-4a9c-976c-697ac65ccb19  Jennifer Mcintosh   \n",
       "497         497  db0066e1-83cc-43f3-990b-983010aa5370   Marion Stecklein   \n",
       "498         498  d6204684-926d-41db-ae9c-a7bf2e76313a      Jeffery Zerbe   \n",
       "499         499  07f4dcd0-2bf3-4f21-9da3-b054b511ae00       Darcel Smith   \n",
       "\n",
       "            Email  \n",
       "0    GHbnuothhymw  \n",
       "1    MD@gmail.com  \n",
       "2    RB@gmail.com  \n",
       "3    KM@gmail.com  \n",
       "4    BE@gmail.com  \n",
       "..            ...  \n",
       "495  TC@gmail.com  \n",
       "496  JM@gmail.com  \n",
       "497  MS@gmail.com  \n",
       "498  JZ@gmail.com  \n",
       "499  DS@gmail.com  \n",
       "\n",
       "[500 rows x 4 columns]"
      ]
     },
     "execution_count": 28,
     "metadata": {},
     "output_type": "execute_result"
    }
   ],
   "source": [
    "df.dropna()"
   ]
  },
  {
   "cell_type": "code",
   "execution_count": 40,
   "id": "3d73864b-f802-4840-a03b-dbb39c47ad19",
   "metadata": {},
   "outputs": [],
   "source": [
    "df[\"Email\"].replace(\"SRkbabommpez\",\"SR@gmail.com\",inplace=True)"
   ]
  },
  {
   "cell_type": "code",
   "execution_count": 41,
   "id": "b2c5d57b-39e9-41c2-8b29-d9b95a8eba85",
   "metadata": {},
   "outputs": [],
   "source": [
    "df[\"Email\"].replace(\"GHbnuothhymw\",\"GH@gmail.com\",inplace=True)"
   ]
  },
  {
   "cell_type": "code",
   "execution_count": 42,
   "id": "ede870fa-c1a5-46a0-92b8-1cf5eb6d42af",
   "metadata": {},
   "outputs": [],
   "source": [
    "df[\"Email\"].replace(\"SHjcmuixgwni\",\"SH@gmail.com\",inplace=True)"
   ]
  },
  {
   "cell_type": "code",
   "execution_count": 43,
   "id": "01d62526-40dc-4c91-9f29-2d3803130f97",
   "metadata": {},
   "outputs": [],
   "source": [
    "df[\"Email\"].replace(\"AFiobiqzxrfh\",\"AF@gmail.com\",inplace=True)"
   ]
  },
  {
   "cell_type": "code",
   "execution_count": 44,
   "id": "a43a3a07-e5db-42b3-8a16-9115b15f2597",
   "metadata": {},
   "outputs": [],
   "source": [
    "df[\"Email\"].replace(\"RPbrxoephmar\",\"RP@gmail.com\",inplace=True)"
   ]
  },
  {
   "cell_type": "code",
   "execution_count": 45,
   "id": "81d1ad7e-166b-45d3-8526-2ebfda90b0e7",
   "metadata": {},
   "outputs": [],
   "source": [
    "df[\"Email\"].replace(\"VTrgqcnsrvpx\",\"VT@gmail.com\",inplace=True)"
   ]
  },
  {
   "cell_type": "code",
   "execution_count": 46,
   "id": "1b34612c-272d-4d17-98ec-f742dd44c66e",
   "metadata": {},
   "outputs": [],
   "source": [
    "df[\"Email\"].replace(\"RMnemqyjpmju\",\"RM@gmail.com\",inplace=True)"
   ]
  },
  {
   "cell_type": "code",
   "execution_count": 47,
   "id": "22514c3a-a740-434a-8f65-b6c68c0f8b63",
   "metadata": {},
   "outputs": [],
   "source": [
    "df[\"Email\"].replace(\"LMgovskansxq\",\"LM@gmail.com\",inplace=True)"
   ]
  },
  {
   "cell_type": "code",
   "execution_count": 48,
   "id": "51e40e64-a9e7-44dc-b5c2-17ede78134e1",
   "metadata": {},
   "outputs": [],
   "source": [
    "df[\"Email\"].replace(\"WBwvtnefwtig\",\"WB@gmail.com\",inplace=True)"
   ]
  },
  {
   "cell_type": "code",
   "execution_count": 49,
   "id": "abdf88ee-4058-49d0-9c0b-c2046d7e2df3",
   "metadata": {},
   "outputs": [],
   "source": [
    "LWsvedxnkdfr\n",
    "df[\"Email\"].replace(\"LSdtqsemuid\",\"LS@gmail.com\",inplace=True)"
   ]
  },
  {
   "cell_type": "code",
   "execution_count": 50,
   "id": "dd5b0604-268a-428c-9f03-307671015e52",
   "metadata": {},
   "outputs": [],
   "source": [
    "df[\"Email\"].replace(\"BPssplwxufql\",\"BP@gmail.com\",inplace=True)"
   ]
  },
  {
   "cell_type": "code",
   "execution_count": 51,
   "id": "df00b4ad-8027-48f3-bae2-e6d438404d4d",
   "metadata": {},
   "outputs": [],
   "source": [
    "df[\"Email\"].replace(\"LWsvedxnkdfr\",\"LW@gmail.com\",inplace=True)"
   ]
  },
  {
   "cell_type": "code",
   "execution_count": 57,
   "id": "232b37f6-2c6a-41ce-967e-f78fec5aa5e2",
   "metadata": {},
   "outputs": [],
   "source": [
    "df[\"Email\"].replace(\"GHbnuothhymw@gmail.com\",\"GH@gmail.com\",inplace=True)\n"
   ]
  },
  {
   "cell_type": "code",
   "execution_count": 66,
   "id": "6335c1ac-ecd8-40c0-9148-53c5d61f9612",
   "metadata": {},
   "outputs": [],
   "source": [
    "df[\"Email\"].replace(\"VTrgqcnsrvpx@gmail.com\",\"VT@gmail.com\",inplace=True)\n"
   ]
  },
  {
   "cell_type": "code",
   "execution_count": 65,
   "id": "ed3a846a-5dbc-476f-9059-73e7e38fe06f",
   "metadata": {},
   "outputs": [],
   "source": [
    "df[\"Email\"].replace(\"RPbrxoephmar@gmail.com\",\"RP@gmail.com\",inplace=True)"
   ]
  },
  {
   "cell_type": "code",
   "execution_count": 67,
   "id": "38e150c1-de38-4ea7-81b3-99592c18f2a4",
   "metadata": {},
   "outputs": [
    {
     "data": {
      "text/plain": [
       "array(['GH@gmail.com', 'MD@gmail.com', 'RB@gmail.com', 'KM@gmail.com',\n",
       "       'BE@gmail.com', 'HN@gmail.com', 'KH@gmail.com', 'CP@gmail.com',\n",
       "       'CS@gmail.com', 'DS@gmail.com', 'JH@gmail.com', 'EB@gmail.com',\n",
       "       'WC@gmail.com', 'DB@gmail.com', 'VT@gmail.com', 'GA@gmail.com',\n",
       "       'TM@gmail.com', 'SC@gmail.com', 'ML@gmail.com', 'JP@gmail.com',\n",
       "       'DH@gmail.com', 'KF@gmail.com', 'CM@gmail.com', 'KJ@gmail.com',\n",
       "       'RL@gmail.com', 'PP@gmail.com', 'AP@gmail.com', 'EH@gmail.com',\n",
       "       'RC@gmail.com', 'RD@gmail.com', 'YB@gmail.com', 'BC@gmail.com',\n",
       "       'MJ@gmail.com', 'CG@gmail.com', 'DE@gmail.com', 'JR@gmail.com',\n",
       "       'JC@gmail.com', 'SL@gmail.com', 'LF@gmail.com', 'BP@gmail.com',\n",
       "       'DC@gmail.com', 'JO@gmail.com', 'RW@gmail.com', 'LL@gmail.com',\n",
       "       'JJ@gmail.com', 'LM@gmail.com', 'DP@gmail.com', 'EV@gmail.com',\n",
       "       'GS@gmail.com', 'GF@gmail.com', 'EP@gmail.com', 'JN@gmail.com',\n",
       "       'RN@gmail.com', 'AW@gmail.com', 'RH@gmail.com', 'NG@gmail.com',\n",
       "       'MC@gmail.com', 'MH@gmail.com', 'MG@gmail.com', 'WS@gmail.com',\n",
       "       'LZ@gmail.com', 'NH@gmail.com', 'SD@gmail.com', 'EK@gmail.com',\n",
       "       'ES@gmail.com', 'MK@gmail.com', 'DV@gmail.com', 'OG@gmail.com',\n",
       "       'KR@gmail.com', 'RM@gmail.com', 'BB@gmail.com', 'WH@gmail.com',\n",
       "       'AB@gmail.com', 'TC@gmail.com', 'CH@gmail.com', 'RS@gmail.com',\n",
       "       'AO@gmail.com', 'IC@gmail.com', 'BA@gmail.com', 'SE@gmail.com',\n",
       "       'TG@gmail.com', 'MT@gmail.com', 'SJ@gmail.com', 'DO@gmail.com',\n",
       "       'PN@gmail.com', 'MM@gmail.com', 'MR@gmail.com', 'EL@gmail.com',\n",
       "       'WG@gmail.com', 'JM@gmail.com', 'LJ@gmail.com', 'SH@gmail.com',\n",
       "       'GT@gmail.com', 'JB@gmail.com', 'LK@gmail.com', 'ER@gmail.com',\n",
       "       'GJ@gmail.com', 'JA@gmail.com', 'AR@gmail.com', 'TW@gmail.com',\n",
       "       'SBhcjcholecn', 'PD@gmail.com', 'HS@gmail.com', 'LG@gmail.com',\n",
       "       'MS@gmail.com', 'DW@gmail.com', 'JY@gmail.com', 'NN@gmail.com',\n",
       "       'AJ@gmail.com', 'WP@gmail.com', 'DJ@gmail.com', 'GG@gmail.com',\n",
       "       'BN@gmail.com', 'RU@gmail.com', 'MP@gmail.com', 'KE@gmail.com',\n",
       "       'OS@gmail.com', 'RT@gmail.com', 'SP@gmail.com', 'MW@gmail.com',\n",
       "       'HA@gmail.com', 'SG@gmail.com', 'TV@gmail.com', 'AD@gmail.com',\n",
       "       'GC@gmail.com', 'TS@gmail.com', 'ST@gmail.com', 'LW@gmail.com',\n",
       "       'KP@gmail.com', 'AE@gmail.com', 'CW@gmail.com', 'SB@gmail.com',\n",
       "       'CR@gmail.com', 'HH@gmail.com', 'MV@gmail.com', 'GW@gmail.com',\n",
       "       'DM@gmail.com', 'LR@gmail.com', 'KD@gmail.com', 'CT@gmail.com',\n",
       "       'AC@gmail.com', 'VC@gmail.com', 'WB@gmail.com', 'TH@gmail.com',\n",
       "       'BS@gmail.com', 'HT@gmail.com', 'AM@gmail.com', 'OM@gmail.com',\n",
       "       'FP@gmail.com', 'PW@gmail.com', 'AL@gmail.com', 'ZS@gmail.com',\n",
       "       'JT@gmail.com', 'EC@gmail.com', 'LP@gmail.com', 'JE@gmail.com',\n",
       "       'SA@gmail.com', 'AY@gmail.com', 'MA@gmail.com', 'AI@gmail.com',\n",
       "       'HL@gmail.com', 'IB@gmail.com', 'BM@gmail.com', 'PM@gmail.com',\n",
       "       'DG@gmail.com', 'VH@gmail.com', 'HE@gmail.com', 'MB@gmail.com',\n",
       "       'KC@gmail.com', 'RV@gmail.com', 'CC@gmail.com', 'JW@gmail.com',\n",
       "       'DT@gmail.com', 'VB@gmail.com', 'BL@gmail.com', 'ET@gmail.com',\n",
       "       'CN@gmail.com', 'ME@gmail.com', 'WL@gmail.com', 'RJ@gmail.com',\n",
       "       'BW@gmail.com', 'AF@gmail.com', 'HF@gmail.com', 'RK@gmail.com',\n",
       "       'SW@gmail.com', 'MN@gmail.com', 'WT@gmail.com', 'PG@gmail.com',\n",
       "       'BD@gmail.com', 'CD@gmail.com', 'TR@gmail.com', 'JS@gmail.com',\n",
       "       'MI@gmail.com', 'EN@gmail.com', 'DK@gmail.com', 'RP@gmail.com',\n",
       "       'EG@gmail.com', 'DI@gmail.com', 'MF@gmail.com', 'JK@gmail.com',\n",
       "       'HW@gmail.com', 'HM@gmail.com', 'PO@gmail.com', 'DR@gmail.com',\n",
       "       'CB@gmail.com', 'NB@gmail.com', 'VF@gmail.com', 'EJ@gmail.com',\n",
       "       'TJ@gmail.com', 'DA@gmail.com', 'KT@gmail.com', 'HC@gmail.com',\n",
       "       'BF@gmail.com', 'CK@gmail.com', 'PB@gmail.com', 'JL@gmail.com',\n",
       "       'EF@gmail.com', 'JD@gmail.com', 'RR@gmail.com', 'DF@gmail.com',\n",
       "       'RO@gmail.com', 'AK@gmail.com', 'LH@gmail.com', 'FW@gmail.com',\n",
       "       'AG@gmail.com', 'PR@gmail.com', 'GL@gmail.com', 'GR@gmail.com',\n",
       "       'PJ@gmail.com', 'SF@gmail.com', 'FB@gmail.com', 'SY@gmail.com',\n",
       "       'EA@gmail.com', 'LSdtqsemuido', 'JG@gmail.com', 'AS@gmail.com',\n",
       "       'WN@gmail.com', 'KL@gmail.com', 'OA@gmail.com', 'HB@gmail.com',\n",
       "       'OK@gmail.com', 'DN@gmail.com', 'SR@gmail.com', 'IM@gmail.com',\n",
       "       'EM@gmail.com', 'JZ@gmail.com'], dtype=object)"
      ]
     },
     "execution_count": 67,
     "metadata": {},
     "output_type": "execute_result"
    }
   ],
   "source": [
    "df[\"Email\"].unique()"
   ]
  },
  {
   "cell_type": "code",
   "execution_count": 71,
   "id": "93250ec7-81d8-439b-9e5f-eb78362d7dc2",
   "metadata": {},
   "outputs": [
    {
     "data": {
      "text/plain": [
       "Unnamed: 0     int64\n",
       "User ID       object\n",
       "Name          object\n",
       "Email         object\n",
       "dtype: object"
      ]
     },
     "execution_count": 71,
     "metadata": {},
     "output_type": "execute_result"
    }
   ],
   "source": [
    "df.dtypes"
   ]
  },
  {
   "cell_type": "code",
   "execution_count": 74,
   "id": "af66f80a-8400-4fe3-b0c4-225afe9aa166",
   "metadata": {},
   "outputs": [
    {
     "data": {
      "text/plain": [
       "array([  0,   1,   2,   3,   4,   5,   6,   7,   8,   9,  10,  11,  12,\n",
       "        13,  14,  15,  16,  17,  18,  19,  20,  21,  22,  23,  24,  25,\n",
       "        26,  27,  28,  29,  30,  31,  32,  33,  34,  35,  36,  37,  38,\n",
       "        39,  40,  41,  42,  43,  44,  45,  46,  47,  48,  49,  50,  51,\n",
       "        52,  53,  54,  55,  56,  57,  58,  59,  60,  61,  62,  63,  64,\n",
       "        65,  66,  67,  68,  69,  70,  71,  72,  73,  74,  75,  76,  77,\n",
       "        78,  79,  80,  81,  82,  83,  84,  85,  86,  87,  88,  89,  90,\n",
       "        91,  92,  93,  94,  95,  96,  97,  98,  99, 100, 101, 102, 103,\n",
       "       104, 105, 106, 107, 108, 109, 110, 111, 112, 113, 114, 115, 116,\n",
       "       117, 118, 119, 120, 121, 122, 123, 124, 125, 126, 127, 128, 129,\n",
       "       130, 131, 132, 133, 134, 135, 136, 137, 138, 139, 140, 141, 142,\n",
       "       143, 144, 145, 146, 147, 148, 149, 150, 151, 152, 153, 154, 155,\n",
       "       156, 157, 158, 159, 160, 161, 162, 163, 164, 165, 166, 167, 168,\n",
       "       169, 170, 171, 172, 173, 174, 175, 176, 177, 178, 179, 180, 181,\n",
       "       182, 183, 184, 185, 186, 187, 188, 189, 190, 191, 192, 193, 194,\n",
       "       195, 196, 197, 198, 199, 200, 201, 202, 203, 204, 205, 206, 207,\n",
       "       208, 209, 210, 211, 212, 213, 214, 215, 216, 217, 218, 219, 220,\n",
       "       221, 222, 223, 224, 225, 226, 227, 228, 229, 230, 231, 232, 233,\n",
       "       234, 235, 236, 237, 238, 239, 240, 241, 242, 243, 244, 245, 246,\n",
       "       247, 248, 249, 250, 251, 252, 253, 254, 255, 256, 257, 258, 259,\n",
       "       260, 261, 262, 263, 264, 265, 266, 267, 268, 269, 270, 271, 272,\n",
       "       273, 274, 275, 276, 277, 278, 279, 280, 281, 282, 283, 284, 285,\n",
       "       286, 287, 288, 289, 290, 291, 292, 293, 294, 295, 296, 297, 298,\n",
       "       299, 300, 301, 302, 303, 304, 305, 306, 307, 308, 309, 310, 311,\n",
       "       312, 313, 314, 315, 316, 317, 318, 319, 320, 321, 322, 323, 324,\n",
       "       325, 326, 327, 328, 329, 330, 331, 332, 333, 334, 335, 336, 337,\n",
       "       338, 339, 340, 341, 342, 343, 344, 345, 346, 347, 348, 349, 350,\n",
       "       351, 352, 353, 354, 355, 356, 357, 358, 359, 360, 361, 362, 363,\n",
       "       364, 365, 366, 367, 368, 369, 370, 371, 372, 373, 374, 375, 376,\n",
       "       377, 378, 379, 380, 381, 382, 383, 384, 385, 386, 387, 388, 389,\n",
       "       390, 391, 392, 393, 394, 395, 396, 397, 398, 399, 400, 401, 402,\n",
       "       403, 404, 405, 406, 407, 408, 409, 410, 411, 412, 413, 414, 415,\n",
       "       416, 417, 418, 419, 420, 421, 422, 423, 424, 425, 426, 427, 428,\n",
       "       429, 430, 431, 432, 433, 434, 435, 436, 437, 438, 439, 440, 441,\n",
       "       442, 443, 444, 445, 446, 447, 448, 449, 450, 451, 452, 453, 454,\n",
       "       455, 456, 457, 458, 459, 460, 461, 462, 463, 464, 465, 466, 467,\n",
       "       468, 469, 470, 471, 472, 473, 474, 475, 476, 477, 478, 479, 480,\n",
       "       481, 482, 483, 484, 485, 486, 487, 488, 489, 490, 491, 492, 493,\n",
       "       494, 495, 496, 497, 498, 499])"
      ]
     },
     "execution_count": 74,
     "metadata": {},
     "output_type": "execute_result"
    }
   ],
   "source": [
    "df[\"Unnamed: 0\"].unique()"
   ]
  },
  {
   "cell_type": "code",
   "execution_count": 6,
   "id": "66ad370d-6879-4b39-a54b-ce07be2fd46c",
   "metadata": {},
   "outputs": [],
   "source": [
    "import os\n"
   ]
  },
  {
   "cell_type": "code",
   "execution_count": 11,
   "id": "28f6b574-43fe-4fa9-ba20-f33bd22629be",
   "metadata": {},
   "outputs": [],
   "source": [
    "os.chdir(\"/Users/mennatullahalsoudi/Downloads\")"
   ]
  },
  {
   "cell_type": "code",
   "execution_count": 13,
   "id": "7fd0215a-888f-4307-816c-a2b53a44b324",
   "metadata": {},
   "outputs": [
    {
     "data": {
      "text/plain": [
       "<function posix.getcwd()>"
      ]
     },
     "execution_count": 13,
     "metadata": {},
     "output_type": "execute_result"
    }
   ],
   "source": [
    "os.getcwd"
   ]
  },
  {
   "cell_type": "code",
   "execution_count": 14,
   "id": "5f86d062-0968-4f9e-98a5-00bc5e1acebf",
   "metadata": {},
   "outputs": [],
   "source": [
    "df=pd.read_csv(\"Content (1)-1.csv\")"
   ]
  },
  {
   "cell_type": "code",
   "execution_count": 15,
   "id": "589aa75e-6ef6-4d12-bd6a-f316859da4b9",
   "metadata": {},
   "outputs": [
    {
     "data": {
      "text/html": [
       "<div>\n",
       "<style scoped>\n",
       "    .dataframe tbody tr th:only-of-type {\n",
       "        vertical-align: middle;\n",
       "    }\n",
       "\n",
       "    .dataframe tbody tr th {\n",
       "        vertical-align: top;\n",
       "    }\n",
       "\n",
       "    .dataframe thead th {\n",
       "        text-align: right;\n",
       "    }\n",
       "</style>\n",
       "<table border=\"1\" class=\"dataframe\">\n",
       "  <thead>\n",
       "    <tr style=\"text-align: right;\">\n",
       "      <th></th>\n",
       "      <th>Unnamed: 0</th>\n",
       "      <th>Content ID</th>\n",
       "      <th>User ID</th>\n",
       "      <th>Type</th>\n",
       "      <th>Category</th>\n",
       "      <th>URL</th>\n",
       "    </tr>\n",
       "  </thead>\n",
       "  <tbody>\n",
       "    <tr>\n",
       "      <th>0</th>\n",
       "      <td>0</td>\n",
       "      <td>97522e57-d9ab-4bd6-97bf-c24d952602d2</td>\n",
       "      <td>8d3cd87d-8a31-4935-9a4f-b319bfe05f31</td>\n",
       "      <td>photo</td>\n",
       "      <td>Studying</td>\n",
       "      <td>https://socialbuzz.cdn.com/content/storage/975...</td>\n",
       "    </tr>\n",
       "    <tr>\n",
       "      <th>1</th>\n",
       "      <td>1</td>\n",
       "      <td>9f737e0a-3cdd-4d29-9d24-753f4e3be810</td>\n",
       "      <td>beb1f34e-7870-46d6-9fc7-2e12eb83ce43</td>\n",
       "      <td>photo</td>\n",
       "      <td>healthy eating</td>\n",
       "      <td>https://socialbuzz.cdn.com/content/storage/9f7...</td>\n",
       "    </tr>\n",
       "    <tr>\n",
       "      <th>2</th>\n",
       "      <td>2</td>\n",
       "      <td>230c4e4d-70c3-461d-b42c-ec09396efb3f</td>\n",
       "      <td>a5c65404-5894-4b87-82f2-d787cbee86b4</td>\n",
       "      <td>photo</td>\n",
       "      <td>healthy eating</td>\n",
       "      <td>https://socialbuzz.cdn.com/content/storage/230...</td>\n",
       "    </tr>\n",
       "    <tr>\n",
       "      <th>3</th>\n",
       "      <td>3</td>\n",
       "      <td>356fff80-da4d-4785-9f43-bc1261031dc6</td>\n",
       "      <td>9fb4ce88-fac1-406c-8544-1a899cee7aaf</td>\n",
       "      <td>photo</td>\n",
       "      <td>technology</td>\n",
       "      <td>https://socialbuzz.cdn.com/content/storage/356...</td>\n",
       "    </tr>\n",
       "    <tr>\n",
       "      <th>4</th>\n",
       "      <td>4</td>\n",
       "      <td>01ab84dd-6364-4236-abbb-3f237db77180</td>\n",
       "      <td>e206e31b-5f85-4964-b6ea-d7ee5324def1</td>\n",
       "      <td>video</td>\n",
       "      <td>food</td>\n",
       "      <td>https://socialbuzz.cdn.com/content/storage/01a...</td>\n",
       "    </tr>\n",
       "  </tbody>\n",
       "</table>\n",
       "</div>"
      ],
      "text/plain": [
       "   Unnamed: 0                            Content ID  \\\n",
       "0           0  97522e57-d9ab-4bd6-97bf-c24d952602d2   \n",
       "1           1  9f737e0a-3cdd-4d29-9d24-753f4e3be810   \n",
       "2           2  230c4e4d-70c3-461d-b42c-ec09396efb3f   \n",
       "3           3  356fff80-da4d-4785-9f43-bc1261031dc6   \n",
       "4           4  01ab84dd-6364-4236-abbb-3f237db77180   \n",
       "\n",
       "                                User ID   Type        Category  \\\n",
       "0  8d3cd87d-8a31-4935-9a4f-b319bfe05f31  photo        Studying   \n",
       "1  beb1f34e-7870-46d6-9fc7-2e12eb83ce43  photo  healthy eating   \n",
       "2  a5c65404-5894-4b87-82f2-d787cbee86b4  photo  healthy eating   \n",
       "3  9fb4ce88-fac1-406c-8544-1a899cee7aaf  photo      technology   \n",
       "4  e206e31b-5f85-4964-b6ea-d7ee5324def1  video            food   \n",
       "\n",
       "                                                 URL  \n",
       "0  https://socialbuzz.cdn.com/content/storage/975...  \n",
       "1  https://socialbuzz.cdn.com/content/storage/9f7...  \n",
       "2  https://socialbuzz.cdn.com/content/storage/230...  \n",
       "3  https://socialbuzz.cdn.com/content/storage/356...  \n",
       "4  https://socialbuzz.cdn.com/content/storage/01a...  "
      ]
     },
     "execution_count": 15,
     "metadata": {},
     "output_type": "execute_result"
    }
   ],
   "source": [
    "df.head()"
   ]
  },
  {
   "cell_type": "code",
   "execution_count": 18,
   "id": "1debf707-d163-4cf9-a90c-e755ed56f983",
   "metadata": {},
   "outputs": [
    {
     "data": {
      "text/plain": [
       "Unnamed: 0      0\n",
       "Content ID      0\n",
       "User ID         0\n",
       "Type            0\n",
       "Category        0\n",
       "URL           199\n",
       "dtype: int64"
      ]
     },
     "execution_count": 18,
     "metadata": {},
     "output_type": "execute_result"
    }
   ],
   "source": [
    "df.isna().sum()"
   ]
  },
  {
   "cell_type": "code",
   "execution_count": 21,
   "id": "f04fb221-8b2c-4224-b5ee-b47076108dd0",
   "metadata": {},
   "outputs": [
    {
     "data": {
      "text/plain": [
       "199"
      ]
     },
     "execution_count": 21,
     "metadata": {},
     "output_type": "execute_result"
    }
   ],
   "source": [
    "df[\"URL\"].isna().sum()"
   ]
  },
  {
   "cell_type": "code",
   "execution_count": 23,
   "id": "e4f249c4-e982-4381-8d11-2e64b15d55d2",
   "metadata": {},
   "outputs": [],
   "source": [
    "df.dropna(inplace=True)"
   ]
  },
  {
   "cell_type": "code",
   "execution_count": 24,
   "id": "282de8c0-bda8-4488-b806-bd2be807ddb1",
   "metadata": {},
   "outputs": [
    {
     "data": {
      "text/html": [
       "<div>\n",
       "<style scoped>\n",
       "    .dataframe tbody tr th:only-of-type {\n",
       "        vertical-align: middle;\n",
       "    }\n",
       "\n",
       "    .dataframe tbody tr th {\n",
       "        vertical-align: top;\n",
       "    }\n",
       "\n",
       "    .dataframe thead th {\n",
       "        text-align: right;\n",
       "    }\n",
       "</style>\n",
       "<table border=\"1\" class=\"dataframe\">\n",
       "  <thead>\n",
       "    <tr style=\"text-align: right;\">\n",
       "      <th></th>\n",
       "      <th>Unnamed: 0</th>\n",
       "      <th>Content ID</th>\n",
       "      <th>User ID</th>\n",
       "      <th>Type</th>\n",
       "      <th>Category</th>\n",
       "      <th>URL</th>\n",
       "    </tr>\n",
       "  </thead>\n",
       "  <tbody>\n",
       "    <tr>\n",
       "      <th>0</th>\n",
       "      <td>0</td>\n",
       "      <td>97522e57-d9ab-4bd6-97bf-c24d952602d2</td>\n",
       "      <td>8d3cd87d-8a31-4935-9a4f-b319bfe05f31</td>\n",
       "      <td>photo</td>\n",
       "      <td>Studying</td>\n",
       "      <td>https://socialbuzz.cdn.com/content/storage/975...</td>\n",
       "    </tr>\n",
       "    <tr>\n",
       "      <th>1</th>\n",
       "      <td>1</td>\n",
       "      <td>9f737e0a-3cdd-4d29-9d24-753f4e3be810</td>\n",
       "      <td>beb1f34e-7870-46d6-9fc7-2e12eb83ce43</td>\n",
       "      <td>photo</td>\n",
       "      <td>healthy eating</td>\n",
       "      <td>https://socialbuzz.cdn.com/content/storage/9f7...</td>\n",
       "    </tr>\n",
       "    <tr>\n",
       "      <th>2</th>\n",
       "      <td>2</td>\n",
       "      <td>230c4e4d-70c3-461d-b42c-ec09396efb3f</td>\n",
       "      <td>a5c65404-5894-4b87-82f2-d787cbee86b4</td>\n",
       "      <td>photo</td>\n",
       "      <td>healthy eating</td>\n",
       "      <td>https://socialbuzz.cdn.com/content/storage/230...</td>\n",
       "    </tr>\n",
       "    <tr>\n",
       "      <th>3</th>\n",
       "      <td>3</td>\n",
       "      <td>356fff80-da4d-4785-9f43-bc1261031dc6</td>\n",
       "      <td>9fb4ce88-fac1-406c-8544-1a899cee7aaf</td>\n",
       "      <td>photo</td>\n",
       "      <td>technology</td>\n",
       "      <td>https://socialbuzz.cdn.com/content/storage/356...</td>\n",
       "    </tr>\n",
       "    <tr>\n",
       "      <th>4</th>\n",
       "      <td>4</td>\n",
       "      <td>01ab84dd-6364-4236-abbb-3f237db77180</td>\n",
       "      <td>e206e31b-5f85-4964-b6ea-d7ee5324def1</td>\n",
       "      <td>video</td>\n",
       "      <td>food</td>\n",
       "      <td>https://socialbuzz.cdn.com/content/storage/01a...</td>\n",
       "    </tr>\n",
       "  </tbody>\n",
       "</table>\n",
       "</div>"
      ],
      "text/plain": [
       "   Unnamed: 0                            Content ID  \\\n",
       "0           0  97522e57-d9ab-4bd6-97bf-c24d952602d2   \n",
       "1           1  9f737e0a-3cdd-4d29-9d24-753f4e3be810   \n",
       "2           2  230c4e4d-70c3-461d-b42c-ec09396efb3f   \n",
       "3           3  356fff80-da4d-4785-9f43-bc1261031dc6   \n",
       "4           4  01ab84dd-6364-4236-abbb-3f237db77180   \n",
       "\n",
       "                                User ID   Type        Category  \\\n",
       "0  8d3cd87d-8a31-4935-9a4f-b319bfe05f31  photo        Studying   \n",
       "1  beb1f34e-7870-46d6-9fc7-2e12eb83ce43  photo  healthy eating   \n",
       "2  a5c65404-5894-4b87-82f2-d787cbee86b4  photo  healthy eating   \n",
       "3  9fb4ce88-fac1-406c-8544-1a899cee7aaf  photo      technology   \n",
       "4  e206e31b-5f85-4964-b6ea-d7ee5324def1  video            food   \n",
       "\n",
       "                                                 URL  \n",
       "0  https://socialbuzz.cdn.com/content/storage/975...  \n",
       "1  https://socialbuzz.cdn.com/content/storage/9f7...  \n",
       "2  https://socialbuzz.cdn.com/content/storage/230...  \n",
       "3  https://socialbuzz.cdn.com/content/storage/356...  \n",
       "4  https://socialbuzz.cdn.com/content/storage/01a...  "
      ]
     },
     "execution_count": 24,
     "metadata": {},
     "output_type": "execute_result"
    }
   ],
   "source": [
    "df.head()"
   ]
  },
  {
   "cell_type": "code",
   "execution_count": 26,
   "id": "7c937bde-6807-4225-88c8-039a5cd6704e",
   "metadata": {},
   "outputs": [
    {
     "data": {
      "text/plain": [
       "Unnamed: 0    0\n",
       "Content ID    0\n",
       "User ID       0\n",
       "Type          0\n",
       "Category      0\n",
       "URL           0\n",
       "dtype: int64"
      ]
     },
     "execution_count": 26,
     "metadata": {},
     "output_type": "execute_result"
    }
   ],
   "source": [
    "df.isna().sum()"
   ]
  },
  {
   "cell_type": "code",
   "execution_count": 53,
   "id": "72b08cb9-898a-4008-87ef-484cb4cd42dd",
   "metadata": {},
   "outputs": [
    {
     "data": {
      "text/html": [
       "<div>\n",
       "<style scoped>\n",
       "    .dataframe tbody tr th:only-of-type {\n",
       "        vertical-align: middle;\n",
       "    }\n",
       "\n",
       "    .dataframe tbody tr th {\n",
       "        vertical-align: top;\n",
       "    }\n",
       "\n",
       "    .dataframe thead th {\n",
       "        text-align: right;\n",
       "    }\n",
       "</style>\n",
       "<table border=\"1\" class=\"dataframe\">\n",
       "  <thead>\n",
       "    <tr style=\"text-align: right;\">\n",
       "      <th></th>\n",
       "      <th>Unnamed: 0</th>\n",
       "      <th>Content ID</th>\n",
       "      <th>User ID</th>\n",
       "      <th>Category</th>\n",
       "    </tr>\n",
       "  </thead>\n",
       "  <tbody>\n",
       "    <tr>\n",
       "      <th>789</th>\n",
       "      <td>789</td>\n",
       "      <td>6912f8e6-86b7-44f6-8aa8-c21c2ed0b53c</td>\n",
       "      <td>e6a52b6a-20ec-4b09-bbb7-4a1138014985</td>\n",
       "      <td>food</td>\n",
       "    </tr>\n",
       "    <tr>\n",
       "      <th>278</th>\n",
       "      <td>278</td>\n",
       "      <td>ac120787-f331-497f-8733-7cd63dfd36b6</td>\n",
       "      <td>eb74e88c-1bf5-402f-987e-90a5977ae1e3</td>\n",
       "      <td>culture</td>\n",
       "    </tr>\n",
       "    <tr>\n",
       "      <th>794</th>\n",
       "      <td>794</td>\n",
       "      <td>1bbfe52f-37e2-4874-8422-161a60b331e1</td>\n",
       "      <td>9ce133df-bd87-4559-96d7-a402add824ca</td>\n",
       "      <td>culture</td>\n",
       "    </tr>\n",
       "    <tr>\n",
       "      <th>286</th>\n",
       "      <td>286</td>\n",
       "      <td>6fc7f722-0a93-4420-8376-09d6536ecef8</td>\n",
       "      <td>db392b86-6ba5-4a9b-933a-a2553488bb62</td>\n",
       "      <td>fitness</td>\n",
       "    </tr>\n",
       "    <tr>\n",
       "      <th>287</th>\n",
       "      <td>287</td>\n",
       "      <td>1601a6f1-4b94-44ed-b9a1-6f64a1a82e9a</td>\n",
       "      <td>eff1e86a-8ede-4a41-818b-9442e3181ee3</td>\n",
       "      <td>fitness</td>\n",
       "    </tr>\n",
       "    <tr>\n",
       "      <th>...</th>\n",
       "      <td>...</td>\n",
       "      <td>...</td>\n",
       "      <td>...</td>\n",
       "      <td>...</td>\n",
       "    </tr>\n",
       "    <tr>\n",
       "      <th>326</th>\n",
       "      <td>326</td>\n",
       "      <td>915505a1-6d75-4894-8200-0f088c19431b</td>\n",
       "      <td>a710ab29-b72a-42c8-a79b-42e63d4a8bfd</td>\n",
       "      <td>cooking</td>\n",
       "    </tr>\n",
       "    <tr>\n",
       "      <th>324</th>\n",
       "      <td>324</td>\n",
       "      <td>4e659bd8-44b6-41a3-893c-c528474a29c9</td>\n",
       "      <td>e8849148-1482-4926-9f28-a537630b9ba2</td>\n",
       "      <td>education</td>\n",
       "    </tr>\n",
       "    <tr>\n",
       "      <th>779</th>\n",
       "      <td>779</td>\n",
       "      <td>f65dbde9-c8dc-4851-927e-964fa2e0908a</td>\n",
       "      <td>a6f003be-b0fd-4100-b4cc-f568a21b9745</td>\n",
       "      <td>education</td>\n",
       "    </tr>\n",
       "    <tr>\n",
       "      <th>782</th>\n",
       "      <td>782</td>\n",
       "      <td>5bf45fd3-6b4b-400c-a126-31b8576e1d70</td>\n",
       "      <td>80c36ce2-2cef-4a47-a563-d2a60a2b1825</td>\n",
       "      <td>tennis</td>\n",
       "    </tr>\n",
       "    <tr>\n",
       "      <th>499</th>\n",
       "      <td>499</td>\n",
       "      <td>af373863-f9df-4330-b423-d2b802b30d6e</td>\n",
       "      <td>b473e898-b7b0-4a57-959d-484bf4cc4483</td>\n",
       "      <td>food</td>\n",
       "    </tr>\n",
       "  </tbody>\n",
       "</table>\n",
       "<p>801 rows × 4 columns</p>\n",
       "</div>"
      ],
      "text/plain": [
       "     Unnamed: 0                            Content ID  \\\n",
       "789         789  6912f8e6-86b7-44f6-8aa8-c21c2ed0b53c   \n",
       "278         278  ac120787-f331-497f-8733-7cd63dfd36b6   \n",
       "794         794  1bbfe52f-37e2-4874-8422-161a60b331e1   \n",
       "286         286  6fc7f722-0a93-4420-8376-09d6536ecef8   \n",
       "287         287  1601a6f1-4b94-44ed-b9a1-6f64a1a82e9a   \n",
       "..          ...                                   ...   \n",
       "326         326  915505a1-6d75-4894-8200-0f088c19431b   \n",
       "324         324  4e659bd8-44b6-41a3-893c-c528474a29c9   \n",
       "779         779  f65dbde9-c8dc-4851-927e-964fa2e0908a   \n",
       "782         782  5bf45fd3-6b4b-400c-a126-31b8576e1d70   \n",
       "499         499  af373863-f9df-4330-b423-d2b802b30d6e   \n",
       "\n",
       "                                  User ID   Category  \n",
       "789  e6a52b6a-20ec-4b09-bbb7-4a1138014985       food  \n",
       "278  eb74e88c-1bf5-402f-987e-90a5977ae1e3    culture  \n",
       "794  9ce133df-bd87-4559-96d7-a402add824ca    culture  \n",
       "286  db392b86-6ba5-4a9b-933a-a2553488bb62    fitness  \n",
       "287  eff1e86a-8ede-4a41-818b-9442e3181ee3    fitness  \n",
       "..                                    ...        ...  \n",
       "326  a710ab29-b72a-42c8-a79b-42e63d4a8bfd    cooking  \n",
       "324  e8849148-1482-4926-9f28-a537630b9ba2  education  \n",
       "779  a6f003be-b0fd-4100-b4cc-f568a21b9745  education  \n",
       "782  80c36ce2-2cef-4a47-a563-d2a60a2b1825     tennis  \n",
       "499  b473e898-b7b0-4a57-959d-484bf4cc4483       food  \n",
       "\n",
       "[801 rows x 4 columns]"
      ]
     },
     "execution_count": 53,
     "metadata": {},
     "output_type": "execute_result"
    }
   ],
   "source": [
    "df.drop(\"Type\",axis=1)"
   ]
  },
  {
   "cell_type": "code",
   "execution_count": 30,
   "id": "e152b8db-69b2-4d9c-9415-33f23ab3b17b",
   "metadata": {},
   "outputs": [
    {
     "data": {
      "text/plain": [
       "Unnamed: 0                                                  206\n",
       "Content ID                 58059956-4cde-4671-9baf-904851731540\n",
       "User ID                    1582dac6-ebec-43ed-a34a-1a202ca72627\n",
       "Type                                                      audio\n",
       "Category                                              education\n",
       "URL           https://socialbuzz.cdn.com/content/storage/580...\n",
       "Name: 206, dtype: object"
      ]
     },
     "execution_count": 30,
     "metadata": {},
     "output_type": "execute_result"
    }
   ],
   "source": [
    "df.loc[206]"
   ]
  },
  {
   "cell_type": "code",
   "execution_count": 31,
   "id": "49a9a241-24a7-446b-b59f-1fde67ef113e",
   "metadata": {},
   "outputs": [
    {
     "data": {
      "text/plain": [
       "201      GIF\n",
       "202    audio\n",
       "203    audio\n",
       "204      GIF\n",
       "206    audio\n",
       "207    photo\n",
       "208    video\n",
       "209      GIF\n",
       "211    video\n",
       "212      GIF\n",
       "213    photo\n",
       "214      GIF\n",
       "216      GIF\n",
       "217    video\n",
       "218    audio\n",
       "219    video\n",
       "221    video\n",
       "222    audio\n",
       "223    audio\n",
       "224      GIF\n",
       "226    video\n",
       "227    photo\n",
       "228    photo\n",
       "229    audio\n",
       "231      GIF\n",
       "232      GIF\n",
       "233    video\n",
       "234    video\n",
       "236      GIF\n",
       "237    audio\n",
       "Name: Type, dtype: object"
      ]
     },
     "execution_count": 31,
     "metadata": {},
     "output_type": "execute_result"
    }
   ],
   "source": [
    "df.loc[200:, 'Type'].head(30)"
   ]
  },
  {
   "cell_type": "code",
   "execution_count": 32,
   "id": "3f959025-d020-4c27-8c52-3276f26fe68e",
   "metadata": {},
   "outputs": [
    {
     "data": {
      "text/plain": [
       "201               food\n",
       "202             travel\n",
       "203             travel\n",
       "204            animals\n",
       "206          education\n",
       "207           veganism\n",
       "208            animals\n",
       "209           veganism\n",
       "211            fitness\n",
       "212          education\n",
       "213    public speaking\n",
       "214            cooking\n",
       "216               food\n",
       "217             tennis\n",
       "218            animals\n",
       "219               dogs\n",
       "221            fitness\n",
       "222     healthy eating\n",
       "223            culture\n",
       "224            fitness\n",
       "226     healthy eating\n",
       "227             travel\n",
       "228            fitness\n",
       "229           studying\n",
       "231            fitness\n",
       "232     healthy eating\n",
       "233           veganism\n",
       "234            cooking\n",
       "236            fitness\n",
       "237           veganism\n",
       "Name: Category, dtype: object"
      ]
     },
     "execution_count": 32,
     "metadata": {},
     "output_type": "execute_result"
    }
   ],
   "source": [
    "df.loc[200:, 'Category'].head(30)"
   ]
  },
  {
   "cell_type": "code",
   "execution_count": 33,
   "id": "2e36edfd-720b-4452-bd81-452bd96eba21",
   "metadata": {},
   "outputs": [
    {
     "data": {
      "text/plain": [
       "array(['photo', 'video', 'audio', 'GIF'], dtype=object)"
      ]
     },
     "execution_count": 33,
     "metadata": {},
     "output_type": "execute_result"
    }
   ],
   "source": [
    "df[\"Type\"].unique()"
   ]
  },
  {
   "cell_type": "code",
   "execution_count": 34,
   "id": "076ffb5f-7578-4eb7-9f22-59348fe19258",
   "metadata": {},
   "outputs": [],
   "source": [
    " s = pd.Series([\"audio\", \"photo\", \"GIF\", \"video\"], dtype=\"category\")"
   ]
  },
  {
   "cell_type": "code",
   "execution_count": 38,
   "id": "1552f572-26fb-48ff-a614-be387aaf46b5",
   "metadata": {},
   "outputs": [],
   "source": [
    "df.sort_values(by=[\"Type\"],inplace=True)"
   ]
  },
  {
   "cell_type": "code",
   "execution_count": 54,
   "id": "7db1a899-e5b1-4c30-beca-78ab85533b05",
   "metadata": {},
   "outputs": [
    {
     "data": {
      "text/html": [
       "<div>\n",
       "<style scoped>\n",
       "    .dataframe tbody tr th:only-of-type {\n",
       "        vertical-align: middle;\n",
       "    }\n",
       "\n",
       "    .dataframe tbody tr th {\n",
       "        vertical-align: top;\n",
       "    }\n",
       "\n",
       "    .dataframe thead th {\n",
       "        text-align: right;\n",
       "    }\n",
       "</style>\n",
       "<table border=\"1\" class=\"dataframe\">\n",
       "  <thead>\n",
       "    <tr style=\"text-align: right;\">\n",
       "      <th></th>\n",
       "      <th>Unnamed: 0</th>\n",
       "      <th>Content ID</th>\n",
       "      <th>User ID</th>\n",
       "      <th>Type</th>\n",
       "      <th>Category</th>\n",
       "    </tr>\n",
       "  </thead>\n",
       "  <tbody>\n",
       "    <tr>\n",
       "      <th>789</th>\n",
       "      <td>789</td>\n",
       "      <td>6912f8e6-86b7-44f6-8aa8-c21c2ed0b53c</td>\n",
       "      <td>e6a52b6a-20ec-4b09-bbb7-4a1138014985</td>\n",
       "      <td>GIF</td>\n",
       "      <td>food</td>\n",
       "    </tr>\n",
       "    <tr>\n",
       "      <th>278</th>\n",
       "      <td>278</td>\n",
       "      <td>ac120787-f331-497f-8733-7cd63dfd36b6</td>\n",
       "      <td>eb74e88c-1bf5-402f-987e-90a5977ae1e3</td>\n",
       "      <td>GIF</td>\n",
       "      <td>culture</td>\n",
       "    </tr>\n",
       "    <tr>\n",
       "      <th>794</th>\n",
       "      <td>794</td>\n",
       "      <td>1bbfe52f-37e2-4874-8422-161a60b331e1</td>\n",
       "      <td>9ce133df-bd87-4559-96d7-a402add824ca</td>\n",
       "      <td>GIF</td>\n",
       "      <td>culture</td>\n",
       "    </tr>\n",
       "    <tr>\n",
       "      <th>286</th>\n",
       "      <td>286</td>\n",
       "      <td>6fc7f722-0a93-4420-8376-09d6536ecef8</td>\n",
       "      <td>db392b86-6ba5-4a9b-933a-a2553488bb62</td>\n",
       "      <td>GIF</td>\n",
       "      <td>fitness</td>\n",
       "    </tr>\n",
       "    <tr>\n",
       "      <th>287</th>\n",
       "      <td>287</td>\n",
       "      <td>1601a6f1-4b94-44ed-b9a1-6f64a1a82e9a</td>\n",
       "      <td>eff1e86a-8ede-4a41-818b-9442e3181ee3</td>\n",
       "      <td>GIF</td>\n",
       "      <td>fitness</td>\n",
       "    </tr>\n",
       "  </tbody>\n",
       "</table>\n",
       "</div>"
      ],
      "text/plain": [
       "     Unnamed: 0                            Content ID  \\\n",
       "789         789  6912f8e6-86b7-44f6-8aa8-c21c2ed0b53c   \n",
       "278         278  ac120787-f331-497f-8733-7cd63dfd36b6   \n",
       "794         794  1bbfe52f-37e2-4874-8422-161a60b331e1   \n",
       "286         286  6fc7f722-0a93-4420-8376-09d6536ecef8   \n",
       "287         287  1601a6f1-4b94-44ed-b9a1-6f64a1a82e9a   \n",
       "\n",
       "                                  User ID Type Category  \n",
       "789  e6a52b6a-20ec-4b09-bbb7-4a1138014985  GIF     food  \n",
       "278  eb74e88c-1bf5-402f-987e-90a5977ae1e3  GIF  culture  \n",
       "794  9ce133df-bd87-4559-96d7-a402add824ca  GIF  culture  \n",
       "286  db392b86-6ba5-4a9b-933a-a2553488bb62  GIF  fitness  \n",
       "287  eff1e86a-8ede-4a41-818b-9442e3181ee3  GIF  fitness  "
      ]
     },
     "execution_count": 54,
     "metadata": {},
     "output_type": "execute_result"
    }
   ],
   "source": [
    "df.head()"
   ]
  },
  {
   "cell_type": "code",
   "execution_count": 55,
   "id": "9c970052-3680-4dd5-a8be-13cb1716bbb8",
   "metadata": {},
   "outputs": [],
   "source": [
    "rows = df.shape[0]\n",
    "cols = df.shape[1]"
   ]
  },
  {
   "cell_type": "code",
   "execution_count": 56,
   "id": "c212e8f4-ed69-4939-8325-a1acb52ba8e3",
   "metadata": {},
   "outputs": [
    {
     "name": "stdout",
     "output_type": "stream",
     "text": [
      "801\n",
      "5\n"
     ]
    }
   ],
   "source": [
    "print(rows)\n",
    "print(cols)"
   ]
  },
  {
   "cell_type": "code",
   "execution_count": 57,
   "id": "83ca90ca-ec72-47c9-b247-5cdb3f890f1d",
   "metadata": {},
   "outputs": [],
   "source": [
    "df=pd.read_csv(\"Content (1)-1.csv\")"
   ]
  },
  {
   "cell_type": "code",
   "execution_count": 58,
   "id": "39da729c-ad87-4c31-ae5a-1067e3b413f2",
   "metadata": {},
   "outputs": [
    {
     "data": {
      "text/html": [
       "<div>\n",
       "<style scoped>\n",
       "    .dataframe tbody tr th:only-of-type {\n",
       "        vertical-align: middle;\n",
       "    }\n",
       "\n",
       "    .dataframe tbody tr th {\n",
       "        vertical-align: top;\n",
       "    }\n",
       "\n",
       "    .dataframe thead th {\n",
       "        text-align: right;\n",
       "    }\n",
       "</style>\n",
       "<table border=\"1\" class=\"dataframe\">\n",
       "  <thead>\n",
       "    <tr style=\"text-align: right;\">\n",
       "      <th></th>\n",
       "      <th>Unnamed: 0</th>\n",
       "      <th>Content ID</th>\n",
       "      <th>User ID</th>\n",
       "      <th>Type</th>\n",
       "      <th>Category</th>\n",
       "      <th>URL</th>\n",
       "    </tr>\n",
       "  </thead>\n",
       "  <tbody>\n",
       "    <tr>\n",
       "      <th>0</th>\n",
       "      <td>0</td>\n",
       "      <td>97522e57-d9ab-4bd6-97bf-c24d952602d2</td>\n",
       "      <td>8d3cd87d-8a31-4935-9a4f-b319bfe05f31</td>\n",
       "      <td>photo</td>\n",
       "      <td>Studying</td>\n",
       "      <td>https://socialbuzz.cdn.com/content/storage/975...</td>\n",
       "    </tr>\n",
       "    <tr>\n",
       "      <th>1</th>\n",
       "      <td>1</td>\n",
       "      <td>9f737e0a-3cdd-4d29-9d24-753f4e3be810</td>\n",
       "      <td>beb1f34e-7870-46d6-9fc7-2e12eb83ce43</td>\n",
       "      <td>photo</td>\n",
       "      <td>healthy eating</td>\n",
       "      <td>https://socialbuzz.cdn.com/content/storage/9f7...</td>\n",
       "    </tr>\n",
       "    <tr>\n",
       "      <th>2</th>\n",
       "      <td>2</td>\n",
       "      <td>230c4e4d-70c3-461d-b42c-ec09396efb3f</td>\n",
       "      <td>a5c65404-5894-4b87-82f2-d787cbee86b4</td>\n",
       "      <td>photo</td>\n",
       "      <td>healthy eating</td>\n",
       "      <td>https://socialbuzz.cdn.com/content/storage/230...</td>\n",
       "    </tr>\n",
       "    <tr>\n",
       "      <th>3</th>\n",
       "      <td>3</td>\n",
       "      <td>356fff80-da4d-4785-9f43-bc1261031dc6</td>\n",
       "      <td>9fb4ce88-fac1-406c-8544-1a899cee7aaf</td>\n",
       "      <td>photo</td>\n",
       "      <td>technology</td>\n",
       "      <td>https://socialbuzz.cdn.com/content/storage/356...</td>\n",
       "    </tr>\n",
       "    <tr>\n",
       "      <th>4</th>\n",
       "      <td>4</td>\n",
       "      <td>01ab84dd-6364-4236-abbb-3f237db77180</td>\n",
       "      <td>e206e31b-5f85-4964-b6ea-d7ee5324def1</td>\n",
       "      <td>video</td>\n",
       "      <td>food</td>\n",
       "      <td>https://socialbuzz.cdn.com/content/storage/01a...</td>\n",
       "    </tr>\n",
       "  </tbody>\n",
       "</table>\n",
       "</div>"
      ],
      "text/plain": [
       "   Unnamed: 0                            Content ID  \\\n",
       "0           0  97522e57-d9ab-4bd6-97bf-c24d952602d2   \n",
       "1           1  9f737e0a-3cdd-4d29-9d24-753f4e3be810   \n",
       "2           2  230c4e4d-70c3-461d-b42c-ec09396efb3f   \n",
       "3           3  356fff80-da4d-4785-9f43-bc1261031dc6   \n",
       "4           4  01ab84dd-6364-4236-abbb-3f237db77180   \n",
       "\n",
       "                                User ID   Type        Category  \\\n",
       "0  8d3cd87d-8a31-4935-9a4f-b319bfe05f31  photo        Studying   \n",
       "1  beb1f34e-7870-46d6-9fc7-2e12eb83ce43  photo  healthy eating   \n",
       "2  a5c65404-5894-4b87-82f2-d787cbee86b4  photo  healthy eating   \n",
       "3  9fb4ce88-fac1-406c-8544-1a899cee7aaf  photo      technology   \n",
       "4  e206e31b-5f85-4964-b6ea-d7ee5324def1  video            food   \n",
       "\n",
       "                                                 URL  \n",
       "0  https://socialbuzz.cdn.com/content/storage/975...  \n",
       "1  https://socialbuzz.cdn.com/content/storage/9f7...  \n",
       "2  https://socialbuzz.cdn.com/content/storage/230...  \n",
       "3  https://socialbuzz.cdn.com/content/storage/356...  \n",
       "4  https://socialbuzz.cdn.com/content/storage/01a...  "
      ]
     },
     "execution_count": 58,
     "metadata": {},
     "output_type": "execute_result"
    }
   ],
   "source": [
    "df.head()"
   ]
  },
  {
   "cell_type": "code",
   "execution_count": 61,
   "id": "8a6c8234-8aca-4972-93bf-30d6f6c8befb",
   "metadata": {},
   "outputs": [
    {
     "data": {
      "text/plain": [
       "Unnamed: 0      0\n",
       "Content ID      0\n",
       "User ID         0\n",
       "Type            0\n",
       "Category        0\n",
       "URL           199\n",
       "dtype: int64"
      ]
     },
     "execution_count": 61,
     "metadata": {},
     "output_type": "execute_result"
    }
   ],
   "source": [
    "df.isna().sum()"
   ]
  },
  {
   "cell_type": "code",
   "execution_count": 64,
   "id": "136096ef-f72a-4f80-b858-913005e88029",
   "metadata": {},
   "outputs": [],
   "source": [
    "df.drop(\"URL\",axis=1,inplace=True)"
   ]
  },
  {
   "cell_type": "code",
   "execution_count": 65,
   "id": "08c1e1b9-a134-46f7-ae31-9392071c9edd",
   "metadata": {},
   "outputs": [
    {
     "data": {
      "text/plain": [
       "Unnamed: 0    0\n",
       "Content ID    0\n",
       "User ID       0\n",
       "Type          0\n",
       "Category      0\n",
       "dtype: int64"
      ]
     },
     "execution_count": 65,
     "metadata": {},
     "output_type": "execute_result"
    }
   ],
   "source": [
    "df.isna().sum()"
   ]
  },
  {
   "cell_type": "code",
   "execution_count": 77,
   "id": "ca28eaa1-7b35-4fe7-8369-389dc889388c",
   "metadata": {},
   "outputs": [],
   "source": [
    "df.sort_values(\"Unnamed: 0\",ascending =True,inplace=True)"
   ]
  },
  {
   "cell_type": "code",
   "execution_count": 78,
   "id": "d9ba197d-0f38-4c8a-a495-867ccfee38d9",
   "metadata": {},
   "outputs": [],
   "source": [
    "df.to_csv(\"Content (1)-1.csv\" )"
   ]
  },
  {
   "cell_type": "code",
   "execution_count": 89,
   "id": "1cb1c35c-6b33-42d2-be7e-82d28c2ef711",
   "metadata": {},
   "outputs": [
    {
     "data": {
      "text/html": [
       "<div>\n",
       "<style scoped>\n",
       "    .dataframe tbody tr th:only-of-type {\n",
       "        vertical-align: middle;\n",
       "    }\n",
       "\n",
       "    .dataframe tbody tr th {\n",
       "        vertical-align: top;\n",
       "    }\n",
       "\n",
       "    .dataframe thead th {\n",
       "        text-align: right;\n",
       "    }\n",
       "</style>\n",
       "<table border=\"1\" class=\"dataframe\">\n",
       "  <thead>\n",
       "    <tr style=\"text-align: right;\">\n",
       "      <th></th>\n",
       "      <th>Unnamed: 0</th>\n",
       "      <th>Content ID</th>\n",
       "      <th>User ID</th>\n",
       "      <th>Type</th>\n",
       "      <th>Category</th>\n",
       "    </tr>\n",
       "  </thead>\n",
       "  <tbody>\n",
       "    <tr>\n",
       "      <th>0</th>\n",
       "      <td>0</td>\n",
       "      <td>97522e57-d9ab-4bd6-97bf-c24d952602d2</td>\n",
       "      <td>8d3cd87d-8a31-4935-9a4f-b319bfe05f31</td>\n",
       "      <td>photo</td>\n",
       "      <td>Studying</td>\n",
       "    </tr>\n",
       "    <tr>\n",
       "      <th>1</th>\n",
       "      <td>1</td>\n",
       "      <td>9f737e0a-3cdd-4d29-9d24-753f4e3be810</td>\n",
       "      <td>beb1f34e-7870-46d6-9fc7-2e12eb83ce43</td>\n",
       "      <td>photo</td>\n",
       "      <td>healthy eating</td>\n",
       "    </tr>\n",
       "    <tr>\n",
       "      <th>2</th>\n",
       "      <td>2</td>\n",
       "      <td>230c4e4d-70c3-461d-b42c-ec09396efb3f</td>\n",
       "      <td>a5c65404-5894-4b87-82f2-d787cbee86b4</td>\n",
       "      <td>photo</td>\n",
       "      <td>healthy eating</td>\n",
       "    </tr>\n",
       "    <tr>\n",
       "      <th>3</th>\n",
       "      <td>3</td>\n",
       "      <td>356fff80-da4d-4785-9f43-bc1261031dc6</td>\n",
       "      <td>9fb4ce88-fac1-406c-8544-1a899cee7aaf</td>\n",
       "      <td>photo</td>\n",
       "      <td>technology</td>\n",
       "    </tr>\n",
       "    <tr>\n",
       "      <th>4</th>\n",
       "      <td>4</td>\n",
       "      <td>01ab84dd-6364-4236-abbb-3f237db77180</td>\n",
       "      <td>e206e31b-5f85-4964-b6ea-d7ee5324def1</td>\n",
       "      <td>video</td>\n",
       "      <td>food</td>\n",
       "    </tr>\n",
       "    <tr>\n",
       "      <th>...</th>\n",
       "      <td>...</td>\n",
       "      <td>...</td>\n",
       "      <td>...</td>\n",
       "      <td>...</td>\n",
       "      <td>...</td>\n",
       "    </tr>\n",
       "    <tr>\n",
       "      <th>947</th>\n",
       "      <td>947</td>\n",
       "      <td>6547f69d-891d-4e1c-bd69-fc8735b8fca8</td>\n",
       "      <td>fd4da61a-5102-4311-8b9f-2ec57bfac6b1</td>\n",
       "      <td>video</td>\n",
       "      <td>science</td>\n",
       "    </tr>\n",
       "    <tr>\n",
       "      <th>948</th>\n",
       "      <td>948</td>\n",
       "      <td>235a0022-a683-4381-8e9e-aaf75fe90734</td>\n",
       "      <td>561b08d6-1084-4115-933d-db3e60edfd8b</td>\n",
       "      <td>photo</td>\n",
       "      <td>fitness</td>\n",
       "    </tr>\n",
       "    <tr>\n",
       "      <th>949</th>\n",
       "      <td>949</td>\n",
       "      <td>21dfb75d-9d98-4627-b074-f4372025d23f</td>\n",
       "      <td>e6a52b6a-20ec-4b09-bbb7-4a1138014985</td>\n",
       "      <td>GIF</td>\n",
       "      <td>culture</td>\n",
       "    </tr>\n",
       "    <tr>\n",
       "      <th>951</th>\n",
       "      <td>951</td>\n",
       "      <td>46ebc5f2-bfe8-4ada-aed3-6265842bd1f3</td>\n",
       "      <td>cb97b0ea-fc93-4597-b391-846710c6fedc</td>\n",
       "      <td>video</td>\n",
       "      <td>food</td>\n",
       "    </tr>\n",
       "    <tr>\n",
       "      <th>952</th>\n",
       "      <td>952</td>\n",
       "      <td>b70813e7-8acd-462a-9b13-6d1258030fed</td>\n",
       "      <td>766886c9-a63a-4446-bb4a-07d611b3b212</td>\n",
       "      <td>video</td>\n",
       "      <td>animals</td>\n",
       "    </tr>\n",
       "  </tbody>\n",
       "</table>\n",
       "<p>952 rows × 5 columns</p>\n",
       "</div>"
      ],
      "text/plain": [
       "     Unnamed: 0                            Content ID  \\\n",
       "0             0  97522e57-d9ab-4bd6-97bf-c24d952602d2   \n",
       "1             1  9f737e0a-3cdd-4d29-9d24-753f4e3be810   \n",
       "2             2  230c4e4d-70c3-461d-b42c-ec09396efb3f   \n",
       "3             3  356fff80-da4d-4785-9f43-bc1261031dc6   \n",
       "4             4  01ab84dd-6364-4236-abbb-3f237db77180   \n",
       "..          ...                                   ...   \n",
       "947         947  6547f69d-891d-4e1c-bd69-fc8735b8fca8   \n",
       "948         948  235a0022-a683-4381-8e9e-aaf75fe90734   \n",
       "949         949  21dfb75d-9d98-4627-b074-f4372025d23f   \n",
       "951         951  46ebc5f2-bfe8-4ada-aed3-6265842bd1f3   \n",
       "952         952  b70813e7-8acd-462a-9b13-6d1258030fed   \n",
       "\n",
       "                                  User ID   Type        Category  \n",
       "0    8d3cd87d-8a31-4935-9a4f-b319bfe05f31  photo        Studying  \n",
       "1    beb1f34e-7870-46d6-9fc7-2e12eb83ce43  photo  healthy eating  \n",
       "2    a5c65404-5894-4b87-82f2-d787cbee86b4  photo  healthy eating  \n",
       "3    9fb4ce88-fac1-406c-8544-1a899cee7aaf  photo      technology  \n",
       "4    e206e31b-5f85-4964-b6ea-d7ee5324def1  video            food  \n",
       "..                                    ...    ...             ...  \n",
       "947  fd4da61a-5102-4311-8b9f-2ec57bfac6b1  video         science  \n",
       "948  561b08d6-1084-4115-933d-db3e60edfd8b  photo         fitness  \n",
       "949  e6a52b6a-20ec-4b09-bbb7-4a1138014985    GIF         culture  \n",
       "951  cb97b0ea-fc93-4597-b391-846710c6fedc  video            food  \n",
       "952  766886c9-a63a-4446-bb4a-07d611b3b212  video         animals  \n",
       "\n",
       "[952 rows x 5 columns]"
      ]
     },
     "execution_count": 89,
     "metadata": {},
     "output_type": "execute_result"
    }
   ],
   "source": [
    "df.drop([950], axis=0,inplace=True)\n",
    "df.head(952)\n",
    "\n",
    "\n"
   ]
  },
  {
   "cell_type": "code",
   "execution_count": null,
   "id": "8a118993-8dac-462a-bdd7-7fa09951b9a5",
   "metadata": {},
   "outputs": [],
   "source": []
  }
 ],
 "metadata": {
  "kernelspec": {
   "display_name": "Python 3 (ipykernel)",
   "language": "python",
   "name": "python3"
  },
  "language_info": {
   "codemirror_mode": {
    "name": "ipython",
    "version": 3
   },
   "file_extension": ".py",
   "mimetype": "text/x-python",
   "name": "python",
   "nbconvert_exporter": "python",
   "pygments_lexer": "ipython3",
   "version": "3.9.7"
  }
 },
 "nbformat": 4,
 "nbformat_minor": 5
}
